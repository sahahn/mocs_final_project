{
 "cells": [
  {
   "cell_type": "code",
   "execution_count": 1,
   "metadata": {},
   "outputs": [],
   "source": [
    "import matplotlib.pyplot as plt\n",
    "from sim_helpers import sim_repeated, get_base_args, get_base_chain_args, get_title"
   ]
  },
  {
   "cell_type": "markdown",
   "metadata": {},
   "source": [
    "## Base Spreading Rate"
   ]
  },
  {
   "cell_type": "code",
   "execution_count": null,
   "metadata": {},
   "outputs": [],
   "source": [
    "args = get_base_args()\n",
    "plt.figure(figsize=(10, 10))\n",
    "\n",
    "for base_spread_p in [.1, .2, .3]:\n",
    "    args[\"base_spread_p\"] = base_spread_p\n",
    "    resources = sim_repeated(args, num_timesteps=50)\n",
    "    plt.plot(resources, label='Base Spread Rate: ' + str(base_spread_p))\n",
    "\n",
    "plt.ylabel('Percent of resources developed')\n",
    "plt.xlabel('Timestep')\n",
    "plt.legend()\n",
    "plt.title(get_title(args))\n",
    "plt.savefig('Figures/base_spread.png')\n",
    "plt.show()"
   ]
  },
  {
   "cell_type": "code",
   "execution_count": null,
   "metadata": {},
   "outputs": [],
   "source": [
    "args = get_base_chain_args()\n",
    "plt.figure(figsize=(10, 10))\n",
    "\n",
    "for base_spread_p in [.1, .2, .3]:\n",
    "    args[\"base_spread_p\"] = base_spread_p\n",
    "    resources = sim_repeated(args, num_timesteps=150)\n",
    "    plt.plot(resources, label='Base Spread Rate: ' + str(base_spread_p))\n",
    "\n",
    "plt.ylabel('Percent of resources developed')\n",
    "plt.xlabel('Timestep')\n",
    "plt.legend()\n",
    "plt.title(get_title(args))\n",
    "plt.savefig('Figures/base_chain_spread.png')\n",
    "plt.show()"
   ]
  },
  {
   "cell_type": "markdown",
   "metadata": {},
   "source": [
    "## Network density"
   ]
  },
  {
   "cell_type": "code",
   "execution_count": null,
   "metadata": {},
   "outputs": [],
   "source": [
    "args = get_base_args()\n",
    "plt.figure(figsize=(10, 10))\n",
    "\n",
    "for comm_to_resource_p in [.03, .05, .1, .5]:\n",
    "    args[\"outer_G_args\"]['comm_to_resource_p'] = comm_to_resource_p\n",
    "    resources = sim_repeated(args, num_timesteps=50)\n",
    "        \n",
    "    label = 'Resource to Community p: ' + str(comm_to_resource_p)\n",
    "    plt.plot(resources, label=label)\n",
    "\n",
    "plt.ylabel('Percent of resources developed')\n",
    "plt.xlabel('Timestep')\n",
    "plt.legend()\n",
    "plt.title(get_title(args))\n",
    "plt.savefig('Figures/random_density.png')\n",
    "plt.show()"
   ]
  },
  {
   "cell_type": "code",
   "execution_count": null,
   "metadata": {},
   "outputs": [],
   "source": [
    "args = get_base_chain_args()\n",
    "plt.figure(figsize=(10, 10))\n",
    "\n",
    "for p in [0, .05, .1, .5]:\n",
    "    args[\"outer_G_args\"]['p_extra'] = p\n",
    "    resources = sim_repeated(args, num_timesteps=100)\n",
    "    \n",
    "    label = 'Extra p: ' + str(p)\n",
    "    plt.plot(resources, label=label)\n",
    "    \n",
    "plt.ylabel('Percent of resources developed')\n",
    "plt.xlabel('Timestep')\n",
    "plt.legend()\n",
    "plt.title(get_title(args))\n",
    "plt.savefig('Figures/chain_extra_density.png')\n",
    "plt.show()"
   ]
  },
  {
   "cell_type": "markdown",
   "metadata": {},
   "source": [
    "## Outside influence"
   ]
  },
  {
   "cell_type": "code",
   "execution_count": null,
   "metadata": {},
   "outputs": [],
   "source": [
    "args = get_base_args()\n",
    "plt.figure(figsize=(10, 10))\n",
    "\n",
    "for dist_scale in [0, 1]:\n",
    "    for outside_influence_k in [.5, 1]:\n",
    "        \n",
    "        args[\"dist_scale\"] = dist_scale\n",
    "        args[\"outside_influence_k\"] = outside_influence_k\n",
    "        \n",
    "        resources = sim_repeated(args, num_timesteps=75)\n",
    "        \n",
    "        label = 'Distance Scale: ' + str(dist_scale) + ' Outside Influence: ' + str(outside_influence_k)\n",
    "        plt.plot(resources, label=label)\n",
    "\n",
    "plt.ylabel('Percent of resources developed')\n",
    "plt.xlabel('Timestep')\n",
    "plt.legend()\n",
    "plt.title(get_title(args))\n",
    "plt.savefig('Figures/outside_influence.png')\n",
    "plt.show()"
   ]
  },
  {
   "cell_type": "markdown",
   "metadata": {},
   "source": [
    "## Vote timescale"
   ]
  },
  {
   "cell_type": "code",
   "execution_count": null,
   "metadata": {
    "scrolled": false
   },
   "outputs": [],
   "source": [
    "args = get_base_args(args[\"outer_G_args\"])\n",
    "plt.figure(figsize=(10, 10))\n",
    "\n",
    "for vote_every in [1, 5, 10]:\n",
    "    args[\"vote_every\"] = vote_every\n",
    "    resources = sim_repeated(args, num_timesteps=100)\n",
    "    plt.plot(resources, label='Vote Every: ' + str(vote_every))\n",
    "\n",
    "plt.ylabel('Percent of resources developed')\n",
    "plt.xlabel('Timestep')\n",
    "plt.legend()\n",
    "plt.title(get_title(args))\n",
    "plt.savefig('Figures/vote_every.png')\n",
    "plt.show()"
   ]
  },
  {
   "cell_type": "markdown",
   "metadata": {},
   "source": [
    "## Already Developed"
   ]
  },
  {
   "cell_type": "code",
   "execution_count": null,
   "metadata": {},
   "outputs": [],
   "source": [
    "args = get_base_args()\n",
    "plt.figure(figsize=(10, 10))\n",
    "\n",
    "for already_developed_p in [0, .05, .1]:\n",
    "    args[\"already_developed_p\"] = already_developed_p\n",
    "    resources = sim_repeated(args, num_timesteps=50)\n",
    "    \n",
    "    label = 'Percent of already developed resources: ' + str(already_developed_p)\n",
    "    plt.plot(resources, label=label)\n",
    "\n",
    "plt.ylabel('Percent of resources developed')\n",
    "plt.xlabel('Timestep')\n",
    "plt.legend()\n",
    "plt.title(get_title(args))\n",
    "plt.savefig('Figures/starting_development.png')\n",
    "plt.show()"
   ]
  },
  {
   "cell_type": "code",
   "execution_count": null,
   "metadata": {},
   "outputs": [],
   "source": [
    "args = get_base_args()\n",
    "plt.title(get_title(args))\n",
    "fig, axes = plt.subplots(3, 3, figsize=(20,20))\n",
    "\n",
    "for i, already_developed_p in enumerate([0, .05, .1]):\n",
    "    for j, p in enumerate([.03, .05, .08]):\n",
    "        \n",
    "        args[\"already_developed_p\"] = already_developed_p\n",
    "        args[\"outer_G_args\"]['comm_to_resource_p'] = p\n",
    "        \n",
    "        resources = sim_repeated(args, num_timesteps=60)\n",
    "        axes[i, j].plot(resources)\n",
    "        \n",
    "        title = 'Start Developed: = ' + str(already_developed_p) + ', Outer Density = ' + str(p)\n",
    "        axes[i, j].set_title(title)\n",
    "        \n",
    "plt.savefig('Figures/starting_development_with_density.png')"
   ]
  }
 ],
 "metadata": {
  "kernelspec": {
   "display_name": "Python 3",
   "language": "python",
   "name": "python3"
  },
  "language_info": {
   "codemirror_mode": {
    "name": "ipython",
    "version": 3
   },
   "file_extension": ".py",
   "mimetype": "text/x-python",
   "name": "python",
   "nbconvert_exporter": "python",
   "pygments_lexer": "ipython3",
   "version": "3.6.10"
  },
  "toc": {
   "base_numbering": 1,
   "nav_menu": {},
   "number_sections": true,
   "sideBar": true,
   "skip_h1_title": false,
   "title_cell": "Table of Contents",
   "title_sidebar": "Contents",
   "toc_cell": false,
   "toc_position": {},
   "toc_section_display": true,
   "toc_window_display": false
  }
 },
 "nbformat": 4,
 "nbformat_minor": 2
}
